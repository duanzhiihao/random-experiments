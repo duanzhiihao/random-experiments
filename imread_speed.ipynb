{
 "cells": [
  {
   "cell_type": "code",
   "execution_count": 1,
   "metadata": {},
   "outputs": [],
   "source": [
    "import os\n",
    "import time\n",
    "import numpy as np\n",
    "import cv2\n",
    "from PIL import Image\n",
    "import matplotlib.pyplot as plt\n",
    "import imageio\n",
    "from tqdm import tqdm"
   ]
  },
  {
   "cell_type": "code",
   "execution_count": 2,
   "metadata": {},
   "outputs": [],
   "source": [
    "img_dir = '../Datasets/COCO/val2017'\n",
    "img_names = os.listdir(img_dir)\n",
    "img_paths = [os.path.join(img_dir, s) for s in img_names]\n",
    "def test_imread(imread_func):\n",
    "    for impath in tqdm(img_paths):\n",
    "        im = imread_func(impath)\n",
    "#         shape = im.shape"
   ]
  },
  {
   "cell_type": "code",
   "execution_count": 3,
   "metadata": {},
   "outputs": [
    {
     "name": "stdout",
     "output_type": "stream",
     "text": [
      "Running PIL.Image.open ...\n"
     ]
    },
    {
     "name": "stderr",
     "output_type": "stream",
     "text": [
      "100%|██████████| 5000/5000 [00:00<00:00, 17463.04it/s]\n"
     ]
    }
   ],
   "source": [
    "print('Running PIL.Image.open ...')\n",
    "time.sleep(1)\n",
    "imread_func = Image.open\n",
    "test_imread(imread_func)"
   ]
  },
  {
   "cell_type": "code",
   "execution_count": 4,
   "metadata": {},
   "outputs": [
    {
     "name": "stdout",
     "output_type": "stream",
     "text": [
      "Running PIL.Image.open + np.array ...\n"
     ]
    },
    {
     "name": "stderr",
     "output_type": "stream",
     "text": [
      "100%|██████████| 5000/5000 [00:25<00:00, 198.97it/s]\n"
     ]
    }
   ],
   "source": [
    "print('Running PIL.Image.open + np.array ...')\n",
    "time.sleep(1)\n",
    "imread_func = lambda s: np.array(Image.open(s))\n",
    "test_imread(imread_func)"
   ]
  },
  {
   "cell_type": "code",
   "execution_count": 5,
   "metadata": {},
   "outputs": [
    {
     "name": "stdout",
     "output_type": "stream",
     "text": [
      "Running cv2.imread ...\n"
     ]
    },
    {
     "name": "stderr",
     "output_type": "stream",
     "text": [
      "100%|██████████| 5000/5000 [00:20<00:00, 240.44it/s]\n"
     ]
    }
   ],
   "source": [
    "print('Running cv2.imread ...')\n",
    "time.sleep(1)\n",
    "imread_func = cv2.imread\n",
    "test_imread(imread_func)"
   ]
  },
  {
   "cell_type": "code",
   "execution_count": 6,
   "metadata": {},
   "outputs": [
    {
     "name": "stdout",
     "output_type": "stream",
     "text": [
      "Running imageio.imread ...\n"
     ]
    },
    {
     "name": "stderr",
     "output_type": "stream",
     "text": [
      "100%|██████████| 5000/5000 [00:25<00:00, 195.31it/s]\n"
     ]
    }
   ],
   "source": [
    "print('Running imageio.imread ...')\n",
    "time.sleep(1)\n",
    "imread_func = imageio.imread\n",
    "test_imread(imread_func)"
   ]
  },
  {
   "cell_type": "code",
   "execution_count": 7,
   "metadata": {},
   "outputs": [
    {
     "name": "stdout",
     "output_type": "stream",
     "text": [
      "Running plt.imread ...\n"
     ]
    },
    {
     "name": "stderr",
     "output_type": "stream",
     "text": [
      "100%|██████████| 5000/5000 [00:24<00:00, 202.47it/s]\n"
     ]
    }
   ],
   "source": [
    "print('Running plt.imread ...')\n",
    "time.sleep(1)\n",
    "imread_func = plt.imread\n",
    "test_imread(imread_func)"
   ]
  }
 ],
 "metadata": {
  "kernelspec": {
   "display_name": "Python 3",
   "language": "python",
   "name": "python3"
  },
  "language_info": {
   "codemirror_mode": {
    "name": "ipython",
    "version": 3
   },
   "file_extension": ".py",
   "mimetype": "text/x-python",
   "name": "python",
   "nbconvert_exporter": "python",
   "pygments_lexer": "ipython3",
   "version": "3.7.7"
  }
 },
 "nbformat": 4,
 "nbformat_minor": 4
}
