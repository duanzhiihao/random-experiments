{
 "cells": [
  {
   "cell_type": "code",
   "execution_count": 1,
   "metadata": {},
   "outputs": [],
   "source": [
    "import os\n",
    "from tqdm import tqdm\n",
    "import numpy as np\n",
    "import cv2"
   ]
  },
  {
   "cell_type": "code",
   "execution_count": 2,
   "metadata": {},
   "outputs": [],
   "source": [
    "img_dir = '/home/duanzh/Projects/Datasets/COCO/val2017'\n",
    "img_paths = [os.path.join(img_dir, s) for s in os.listdir(img_dir)]\n",
    "div = 64"
   ]
  },
  {
   "cell_type": "code",
   "execution_count": 3,
   "metadata": {},
   "outputs": [
    {
     "name": "stderr",
     "output_type": "stream",
     "text": [
      "100%|██████████| 5000/5000 [00:19<00:00, 253.84it/s]\n"
     ]
    }
   ],
   "source": [
    "# time for read image only\n",
    "for impath in tqdm(img_paths):\n",
    "    im = cv2.imread(impath)"
   ]
  },
  {
   "cell_type": "code",
   "execution_count": 4,
   "metadata": {},
   "outputs": [
    {
     "name": "stderr",
     "output_type": "stream",
     "text": [
      "100%|██████████| 5000/5000 [00:21<00:00, 229.73it/s]\n"
     ]
    }
   ],
   "source": [
    "# time for read image only\n",
    "for impath in tqdm(img_paths):\n",
    "    im = cv2.imread(impath).astype(np.float32) / 255.0"
   ]
  },
  {
   "cell_type": "code",
   "execution_count": 5,
   "metadata": {},
   "outputs": [
    {
     "name": "stderr",
     "output_type": "stream",
     "text": [
      "100%|██████████| 5000/5000 [00:23<00:00, 208.80it/s]\n"
     ]
    }
   ],
   "source": [
    "# pad using new array\n",
    "for impath in tqdm(img_paths):\n",
    "    im = cv2.imread(impath).astype(np.float32) / 255.0\n",
    "    \n",
    "    H_ORG, W_ORG, C = im.shape\n",
    "    H_PAD = int(div * np.ceil(H_ORG / div))\n",
    "    W_PAD = int(div * np.ceil(W_ORG / div))\n",
    "    padded = np.zeros([H_PAD, W_PAD, C], dtype='float32')\n",
    "    padded[:H_ORG,:W_ORG,:] = im"
   ]
  },
  {
   "cell_type": "code",
   "execution_count": 6,
   "metadata": {},
   "outputs": [
    {
     "name": "stderr",
     "output_type": "stream",
     "text": [
      "100%|██████████| 5000/5000 [00:22<00:00, 223.34it/s]\n"
     ]
    }
   ],
   "source": [
    "# pad using new array\n",
    "for impath in tqdm(img_paths):\n",
    "    im = cv2.imread(impath).astype(np.float32) / 255.0\n",
    "    \n",
    "    H_ORG, W_ORG, C = im.shape\n",
    "    pad_bottom = int(np.ceil(H_ORG/div) * div) - H_ORG\n",
    "    pad_right = int(np.ceil(W_ORG/div) * div) - W_ORG\n",
    "    im = np.pad(im, pad_width=((0,pad_bottom),(0,pad_right),(0,0)), constant_values=0)"
   ]
  },
  {
   "cell_type": "code",
   "execution_count": null,
   "metadata": {},
   "outputs": [],
   "source": []
  }
 ],
 "metadata": {
  "kernelspec": {
   "display_name": "Python 3",
   "language": "python",
   "name": "python3"
  },
  "language_info": {
   "codemirror_mode": {
    "name": "ipython",
    "version": 3
   },
   "file_extension": ".py",
   "mimetype": "text/x-python",
   "name": "python",
   "nbconvert_exporter": "python",
   "pygments_lexer": "ipython3",
   "version": "3.7.7"
  }
 },
 "nbformat": 4,
 "nbformat_minor": 4
}
