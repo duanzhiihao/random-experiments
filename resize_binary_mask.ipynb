{
 "cells": [
  {
   "cell_type": "code",
   "execution_count": 1,
   "metadata": {},
   "outputs": [],
   "source": [
    "from time import time\n",
    "import torch\n",
    "import torchvision.transforms.functional as tvf\n",
    "import PIL.Image\n",
    "from skimage.transform import resize"
   ]
  },
  {
   "cell_type": "code",
   "execution_count": 2,
   "metadata": {},
   "outputs": [
    {
     "name": "stdout",
     "output_type": "stream",
     "text": [
      "0.003590822219848633\n",
      "0.05957531929016113\n"
     ]
    }
   ],
   "source": [
    "# from torch.tensor\n",
    "masks = torch.rand(10, 512, 512) > 0.5\n",
    "\n",
    "# tvf\n",
    "tic = time()\n",
    "for mask in masks:\n",
    "    m = PIL.Image.fromarray(mask.numpy())\n",
    "    m = tvf.resize(m, (416,416))\n",
    "    m = tvf.to_tensor(m)\n",
    "#     print(m.dtype)\n",
    "print(time() - tic)\n",
    "\n",
    "# skimage\n",
    "tic = time()\n",
    "for mask in masks:\n",
    "    m = mask.numpy()\n",
    "    m = resize(m, (416,416))\n",
    "    m = torch.from_numpy(m)\n",
    "#     print(m.dtype)\n",
    "print(time() - tic)"
   ]
  },
  {
   "cell_type": "code",
   "execution_count": null,
   "metadata": {},
   "outputs": [],
   "source": []
  },
  {
   "cell_type": "code",
   "execution_count": null,
   "metadata": {},
   "outputs": [],
   "source": []
  },
  {
   "cell_type": "code",
   "execution_count": null,
   "metadata": {},
   "outputs": [],
   "source": []
  }
 ],
 "metadata": {
  "kernelspec": {
   "display_name": "Python 3",
   "language": "python",
   "name": "python3"
  },
  "language_info": {
   "codemirror_mode": {
    "name": "ipython",
    "version": 3
   },
   "file_extension": ".py",
   "mimetype": "text/x-python",
   "name": "python",
   "nbconvert_exporter": "python",
   "pygments_lexer": "ipython3",
   "version": "3.7.7"
  }
 },
 "nbformat": 4,
 "nbformat_minor": 4
}
