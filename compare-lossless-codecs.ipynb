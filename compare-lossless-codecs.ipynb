{
 "cells": [
  {
   "cell_type": "code",
   "execution_count": 5,
   "metadata": {},
   "outputs": [],
   "source": [
    "from PIL import Image\n",
    "from tqdm import tqdm\n",
    "from pathlib import Path\n",
    "from collections import defaultdict\n",
    "import time\n",
    "import numpy as np\n",
    "from timm.utils import AverageMeter\n",
    "import mycv\n"
   ]
  },
  {
   "cell_type": "code",
   "execution_count": 4,
   "metadata": {},
   "outputs": [
    {
     "name": "stdout",
     "output_type": "stream",
     "text": [
      "Number of images: 24\n"
     ]
    }
   ],
   "source": [
    "img_paths = sorted(mycv.dataset_paths['kodak'].rglob('*.png'))\n",
    "print('Number of images:', len(img_paths))"
   ]
  },
  {
   "cell_type": "code",
   "execution_count": 22,
   "metadata": {},
   "outputs": [],
   "source": [
    "def benchmark(codec, desc=''):\n",
    "    tmp_path = Path('runs/tmp.bits')\n",
    "    sanity_flag = True\n",
    "    metrics = defaultdict(AverageMeter)\n",
    "\n",
    "    for impath in tqdm(img_paths, ascii=True, ncols=128, desc=desc):\n",
    "        # encode\n",
    "        start_time = time.time()\n",
    "        codec.encode_file(impath, tmp_path)\n",
    "        encode_end = time.time()\n",
    "\n",
    "        # decode\n",
    "        im = codec.decode_file(tmp_path)\n",
    "        decode_end = time.time()\n",
    "\n",
    "        # sanity check\n",
    "        original = np.array(Image.open(impath))\n",
    "        if not np.array_equal(original, im):\n",
    "            sanity_flag = False\n",
    "\n",
    "        # metrics\n",
    "        num_bits = tmp_path.stat().st_size * 8\n",
    "        bpp = num_bits / float(original.shape[0] * original.shape[1])\n",
    "        metrics['enc (s)'].update(encode_end - start_time)\n",
    "        metrics['dec (s)'].update(decode_end - encode_end)\n",
    "        metrics['bpp'].update(bpp)\n",
    "\n",
    "        # cleanup\n",
    "        tmp_path.unlink()\n",
    "\n",
    "    if not sanity_flag:\n",
    "        print('==== Warning: not lossless ====')\n",
    "\n",
    "    metrics = {k: v.avg for k, v in metrics.items()}\n",
    "    metrics['ratio'] = metrics['bpp'] / 24\n",
    "    mycv.utils.print_dict_as_table(metrics)\n",
    "    print()"
   ]
  },
  {
   "cell_type": "markdown",
   "metadata": {},
   "source": [
    "## PNG"
   ]
  },
  {
   "cell_type": "code",
   "execution_count": 13,
   "metadata": {},
   "outputs": [
    {
     "name": "stderr",
     "output_type": "stream",
     "text": [
      "PNG: 100%|######################################################################################| 24/24 [00:03<00:00,  6.27it/s]\n"
     ]
    },
    {
     "name": "stdout",
     "output_type": "stream",
     "text": [
      "| enc (s) | dec (s) |  bpp   | ratio  |\n",
      "| 0.1353  | 0.01244 | 13.51  | 0.5631 |\n"
     ]
    },
    {
     "name": "stderr",
     "output_type": "stream",
     "text": [
      "PNG, optimize=True: 100%|#######################################################################| 24/24 [00:05<00:00,  4.12it/s]"
     ]
    },
    {
     "name": "stdout",
     "output_type": "stream",
     "text": [
      "| enc (s) | dec (s) |  bpp   | ratio  |\n",
      "| 0.2206  | 0.01058 |  13.4  | 0.5584 |\n"
     ]
    },
    {
     "name": "stderr",
     "output_type": "stream",
     "text": [
      "\n"
     ]
    }
   ],
   "source": [
    "class PNGCodec():\n",
    "    def __init__(self, **kwargs):\n",
    "        self.kwargs = kwargs\n",
    "\n",
    "    def encode_file(self, impath, tmp_path):\n",
    "        im = np.array(Image.open(impath))\n",
    "        Image.fromarray(im).save(tmp_path, format='png', **self.kwargs)\n",
    "\n",
    "    def decode_file(self, tmp_path):\n",
    "        im = np.array(Image.open(tmp_path))\n",
    "        return im\n",
    "\n",
    "benchmark(PNGCodec(), 'PNG')\n",
    "benchmark(PNGCodec(optimize=True), 'PNG, optimize=True')"
   ]
  },
  {
   "cell_type": "markdown",
   "metadata": {},
   "source": [
    "## WebP"
   ]
  },
  {
   "cell_type": "code",
   "execution_count": 24,
   "metadata": {},
   "outputs": [
    {
     "name": "stderr",
     "output_type": "stream",
     "text": [
      "WebP lossless: 100%|############################################################################| 24/24 [00:08<00:00,  2.99it/s]\n"
     ]
    },
    {
     "name": "stdout",
     "output_type": "stream",
     "text": [
      "| enc (s) | dec (s) |  bpp   | ratio  |\n",
      "| 0.3119  | 0.01125 | 9.612  | 0.4005 |\n",
      "\n"
     ]
    },
    {
     "name": "stderr",
     "output_type": "stream",
     "text": [
      "WebP lossless, quality=0: 100%|#################################################################| 24/24 [00:04<00:00,  4.91it/s]\n"
     ]
    },
    {
     "name": "stdout",
     "output_type": "stream",
     "text": [
      "| enc (s) | dec (s) |  bpp   | ratio  |\n",
      "| 0.1811  | 0.01083 |  9.7   | 0.4042 |\n",
      "\n"
     ]
    },
    {
     "name": "stderr",
     "output_type": "stream",
     "text": [
      "WebP lossless, quality=100: 100%|###############################################################| 24/24 [00:26<00:00,  1.08s/it]"
     ]
    },
    {
     "name": "stdout",
     "output_type": "stream",
     "text": [
      "| enc (s) | dec (s) |  bpp   | ratio  |\n",
      "|  1.061  | 0.01139 | 9.569  | 0.3987 |\n",
      "\n"
     ]
    },
    {
     "name": "stderr",
     "output_type": "stream",
     "text": [
      "\n"
     ]
    }
   ],
   "source": [
    "class WebPCodec():\n",
    "    def __init__(self, **kwargs):\n",
    "        self.kwargs = kwargs\n",
    "\n",
    "    def encode_file(self, impath, tmp_path):\n",
    "        im = np.array(Image.open(impath))\n",
    "        Image.fromarray(im).save(tmp_path, format='webp', **self.kwargs)\n",
    "\n",
    "    def decode_file(self, tmp_path):\n",
    "        im = np.array(Image.open(tmp_path))\n",
    "        return im\n",
    "\n",
    "benchmark(WebPCodec(lossless=True), 'WebP lossless')\n",
    "benchmark(WebPCodec(lossless=True, quality=0), 'WebP lossless, quality=0')\n",
    "benchmark(WebPCodec(lossless=True, quality=100), 'WebP lossless, quality=100')"
   ]
  },
  {
   "cell_type": "markdown",
   "metadata": {},
   "source": [
    "## AV1 Image File (AVIF)"
   ]
  },
  {
   "cell_type": "code",
   "execution_count": 23,
   "metadata": {},
   "outputs": [
    {
     "name": "stderr",
     "output_type": "stream",
     "text": [
      "AVIF: 100%|#####################################################################################| 24/24 [00:05<00:00,  4.38it/s]"
     ]
    },
    {
     "name": "stdout",
     "output_type": "stream",
     "text": [
      "==== Warning: not lossless ====\n",
      "| enc (s) | dec (s) |  bpp   | ratio  |\n",
      "| 0.1908  |  0.025  | 5.816  | 0.2423 |\n",
      "\n"
     ]
    },
    {
     "name": "stderr",
     "output_type": "stream",
     "text": [
      "\n"
     ]
    }
   ],
   "source": [
    "import pillow_avif\n",
    "\n",
    "class AVIFCodec():\n",
    "    def __init__(self, **kwargs):\n",
    "        self.kwargs = kwargs\n",
    "\n",
    "    def encode_file(self, impath, tmp_path):\n",
    "        im = np.array(Image.open(impath))\n",
    "        Image.fromarray(im).save(tmp_path, format='avif', **self.kwargs)\n",
    "\n",
    "    def decode_file(self, tmp_path):\n",
    "        im = np.array(Image.open(tmp_path))\n",
    "        return im\n",
    "\n",
    "benchmark(AVIFCodec(quality=100), 'AVIF')"
   ]
  },
  {
   "cell_type": "markdown",
   "metadata": {},
   "source": [
    "## High Efficiency Image File (HEIF)"
   ]
  },
  {
   "cell_type": "code",
   "execution_count": 27,
   "metadata": {},
   "outputs": [
    {
     "name": "stderr",
     "output_type": "stream",
     "text": [
      "HEIF: 100%|#####################################################################################| 24/24 [00:12<00:00,  1.86it/s]"
     ]
    },
    {
     "name": "stdout",
     "output_type": "stream",
     "text": [
      "| enc (s) | dec (s) |  bpp   | ratio  |\n",
      "| 0.3962  | 0.1113  | 14.13  | 0.5889 |\n",
      "\n"
     ]
    },
    {
     "name": "stderr",
     "output_type": "stream",
     "text": [
      "\n"
     ]
    }
   ],
   "source": [
    "from pillow_heif import register_heif_opener\n",
    "register_heif_opener()\n",
    "\n",
    "class HEIFCodec():\n",
    "    def __init__(self, **kwargs):\n",
    "        self.kwargs = kwargs\n",
    "\n",
    "    def encode_file(self, impath, tmp_path):\n",
    "        im = np.array(Image.open(impath))\n",
    "        Image.fromarray(im).save(tmp_path, format='heif', quality=-1, chroma=444, matrix_coefficients=0, **self.kwargs)\n",
    "\n",
    "    def decode_file(self, tmp_path):\n",
    "        im = np.array(Image.open(tmp_path))\n",
    "        return im\n",
    "\n",
    "benchmark(HEIFCodec(), 'HEIF')"
   ]
  }
 ],
 "metadata": {
  "kernelspec": {
   "display_name": "py311pt22",
   "language": "python",
   "name": "python3"
  },
  "language_info": {
   "codemirror_mode": {
    "name": "ipython",
    "version": 3
   },
   "file_extension": ".py",
   "mimetype": "text/x-python",
   "name": "python",
   "nbconvert_exporter": "python",
   "pygments_lexer": "ipython3",
   "version": "3.11.8"
  }
 },
 "nbformat": 4,
 "nbformat_minor": 2
}
