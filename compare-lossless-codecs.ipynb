{
 "cells": [
  {
   "cell_type": "code",
   "execution_count": 1,
   "metadata": {},
   "outputs": [
    {
     "name": "stderr",
     "output_type": "stream",
     "text": [
      "/home/jackfruit/a/duan90/anaconda3/envs/py311pt22/lib/python3.11/site-packages/tqdm/auto.py:21: TqdmWarning: IProgress not found. Please update jupyter and ipywidgets. See https://ipywidgets.readthedocs.io/en/stable/user_install.html\n",
      "  from .autonotebook import tqdm as notebook_tqdm\n"
     ]
    }
   ],
   "source": [
    "from PIL import Image\n",
    "from tqdm import tqdm\n",
    "from pathlib import Path\n",
    "from collections import defaultdict\n",
    "import time\n",
    "import numpy as np\n",
    "from timm.utils import AverageMeter\n",
    "import mycv\n"
   ]
  },
  {
   "cell_type": "code",
   "execution_count": 2,
   "metadata": {},
   "outputs": [
    {
     "name": "stdout",
     "output_type": "stream",
     "text": [
      "Number of images: 24\n"
     ]
    }
   ],
   "source": [
    "img_paths = sorted(mycv.dataset_paths['kodak'].rglob('*.png'))\n",
    "print('Number of images:', len(img_paths))"
   ]
  },
  {
   "cell_type": "code",
   "execution_count": 3,
   "metadata": {},
   "outputs": [],
   "source": [
    "def benchmark(codec, desc=''):\n",
    "    tmp_path = Path('runs/tmp.bits')\n",
    "    sanity_flag = True\n",
    "    metrics = defaultdict(AverageMeter)\n",
    "\n",
    "    for impath in tqdm(img_paths, ascii=True, ncols=96, desc=desc):\n",
    "        # encode\n",
    "        start_time = time.time()\n",
    "        codec.encode_file(impath, tmp_path)\n",
    "        encode_end = time.time()\n",
    "\n",
    "        # decode\n",
    "        im = codec.decode_file(tmp_path)\n",
    "        decode_end = time.time()\n",
    "\n",
    "        # sanity check\n",
    "        original = np.array(Image.open(impath))\n",
    "        if not np.array_equal(original, im):\n",
    "            sanity_flag = False\n",
    "\n",
    "        # metrics\n",
    "        num_bits = tmp_path.stat().st_size * 8\n",
    "        bpp = num_bits / float(original.shape[0] * original.shape[1])\n",
    "        metrics['enc (s)'].update(encode_end - start_time)\n",
    "        metrics['dec (s)'].update(decode_end - encode_end)\n",
    "        metrics['bpp'].update(bpp)\n",
    "\n",
    "        # cleanup\n",
    "        tmp_path.unlink()\n",
    "\n",
    "    if not sanity_flag:\n",
    "        print('==== Warning: not lossless ====')\n",
    "\n",
    "    metrics = {k: v.avg for k, v in metrics.items()}\n",
    "    metrics['ratio'] = metrics['bpp'] / 24\n",
    "    mycv.utils.print_dict_as_table(metrics)\n",
    "    print()"
   ]
  },
  {
   "cell_type": "markdown",
   "metadata": {},
   "source": [
    "## PNG"
   ]
  },
  {
   "cell_type": "code",
   "execution_count": 4,
   "metadata": {},
   "outputs": [
    {
     "name": "stderr",
     "output_type": "stream",
     "text": [
      "PNG: 100%|######################################################| 24/24 [00:03<00:00,  6.37it/s]\n"
     ]
    },
    {
     "name": "stdout",
     "output_type": "stream",
     "text": [
      "| enc (s) | dec (s) |  bpp   | ratio  |\n",
      "| 0.1327  | 0.01246 | 13.51  | 0.5631 |\n",
      "\n"
     ]
    },
    {
     "name": "stderr",
     "output_type": "stream",
     "text": [
      "PNG, optimize=True: 100%|#######################################| 24/24 [00:05<00:00,  4.12it/s]"
     ]
    },
    {
     "name": "stdout",
     "output_type": "stream",
     "text": [
      "| enc (s) | dec (s) |  bpp   | ratio  |\n",
      "| 0.2203  | 0.01066 |  13.4  | 0.5584 |\n",
      "\n"
     ]
    },
    {
     "name": "stderr",
     "output_type": "stream",
     "text": [
      "\n"
     ]
    }
   ],
   "source": [
    "class PNGCodec():\n",
    "    def __init__(self, **kwargs):\n",
    "        self.kwargs = kwargs\n",
    "\n",
    "    def encode_file(self, impath, tmp_path):\n",
    "        im = np.array(Image.open(impath))\n",
    "        Image.fromarray(im).save(tmp_path, format='png', **self.kwargs)\n",
    "\n",
    "    def decode_file(self, tmp_path):\n",
    "        im = np.array(Image.open(tmp_path))\n",
    "        return im\n",
    "\n",
    "benchmark(PNGCodec(), 'PNG')\n",
    "benchmark(PNGCodec(optimize=True), 'PNG, optimize=True')"
   ]
  },
  {
   "cell_type": "markdown",
   "metadata": {},
   "source": [
    "## WebP"
   ]
  },
  {
   "cell_type": "code",
   "execution_count": 5,
   "metadata": {},
   "outputs": [
    {
     "name": "stderr",
     "output_type": "stream",
     "text": [
      "WebP lossless: 100%|############################################| 24/24 [00:08<00:00,  2.98it/s]\n"
     ]
    },
    {
     "name": "stdout",
     "output_type": "stream",
     "text": [
      "| enc (s) | dec (s) |  bpp   | ratio  |\n",
      "| 0.3127  | 0.01131 | 9.612  | 0.4005 |\n",
      "\n"
     ]
    },
    {
     "name": "stderr",
     "output_type": "stream",
     "text": [
      "WebP lossless, quality=0: 100%|#################################| 24/24 [00:04<00:00,  4.99it/s]\n"
     ]
    },
    {
     "name": "stdout",
     "output_type": "stream",
     "text": [
      "| enc (s) | dec (s) |  bpp   | ratio  |\n",
      "| 0.1781  | 0.01084 |  9.7   | 0.4042 |\n",
      "\n"
     ]
    },
    {
     "name": "stderr",
     "output_type": "stream",
     "text": [
      "WebP lossless, quality=100: 100%|###############################| 24/24 [00:26<00:00,  1.09s/it]"
     ]
    },
    {
     "name": "stdout",
     "output_type": "stream",
     "text": [
      "| enc (s) | dec (s) |  bpp   | ratio  |\n",
      "|  1.064  | 0.01154 | 9.569  | 0.3987 |\n",
      "\n"
     ]
    },
    {
     "name": "stderr",
     "output_type": "stream",
     "text": [
      "\n"
     ]
    }
   ],
   "source": [
    "class WebPCodec():\n",
    "    def __init__(self, **kwargs):\n",
    "        self.kwargs = kwargs\n",
    "\n",
    "    def encode_file(self, impath, tmp_path):\n",
    "        im = np.array(Image.open(impath))\n",
    "        Image.fromarray(im).save(tmp_path, format='webp', **self.kwargs)\n",
    "\n",
    "    def decode_file(self, tmp_path):\n",
    "        im = np.array(Image.open(tmp_path))\n",
    "        return im\n",
    "\n",
    "benchmark(WebPCodec(lossless=True), 'WebP lossless')\n",
    "benchmark(WebPCodec(lossless=True, quality=0), 'WebP lossless, quality=0')\n",
    "benchmark(WebPCodec(lossless=True, quality=100), 'WebP lossless, quality=100')"
   ]
  },
  {
   "cell_type": "markdown",
   "metadata": {},
   "source": [
    "## AV1 Image File (AVIF)"
   ]
  },
  {
   "cell_type": "code",
   "execution_count": 6,
   "metadata": {},
   "outputs": [
    {
     "name": "stderr",
     "output_type": "stream",
     "text": [
      "AVIF: 100%|#####################################################| 24/24 [00:05<00:00,  4.37it/s]"
     ]
    },
    {
     "name": "stdout",
     "output_type": "stream",
     "text": [
      "==== Warning: not lossless ====\n",
      "| enc (s) | dec (s) |  bpp   | ratio  |\n",
      "| 0.1917  | 0.02436 | 5.816  | 0.2423 |\n",
      "\n"
     ]
    },
    {
     "name": "stderr",
     "output_type": "stream",
     "text": [
      "\n"
     ]
    }
   ],
   "source": [
    "import pillow_avif\n",
    "\n",
    "class AVIFCodec():\n",
    "    def __init__(self, **kwargs):\n",
    "        self.kwargs = kwargs\n",
    "\n",
    "    def encode_file(self, impath, tmp_path):\n",
    "        im = np.array(Image.open(impath))\n",
    "        Image.fromarray(im).save(tmp_path, format='avif', **self.kwargs)\n",
    "\n",
    "    def decode_file(self, tmp_path):\n",
    "        im = np.array(Image.open(tmp_path))\n",
    "        return im\n",
    "\n",
    "benchmark(AVIFCodec(quality=100), 'AVIF')"
   ]
  },
  {
   "cell_type": "markdown",
   "metadata": {},
   "source": [
    "## High Efficiency Image File (HEIF)"
   ]
  },
  {
   "cell_type": "code",
   "execution_count": 7,
   "metadata": {},
   "outputs": [
    {
     "name": "stderr",
     "output_type": "stream",
     "text": [
      "HEIF: 100%|#####################################################| 24/24 [00:13<00:00,  1.83it/s]"
     ]
    },
    {
     "name": "stdout",
     "output_type": "stream",
     "text": [
      "| enc (s) | dec (s) |  bpp   | ratio  |\n",
      "| 0.4113  | 0.1105  | 14.13  | 0.5889 |\n",
      "\n"
     ]
    },
    {
     "name": "stderr",
     "output_type": "stream",
     "text": [
      "\n"
     ]
    }
   ],
   "source": [
    "from pillow_heif import register_heif_opener\n",
    "register_heif_opener()\n",
    "\n",
    "class HEIFCodec():\n",
    "    def __init__(self, **kwargs):\n",
    "        self.kwargs = kwargs\n",
    "\n",
    "    def encode_file(self, impath, tmp_path):\n",
    "        im = np.array(Image.open(impath))\n",
    "        Image.fromarray(im).save(tmp_path, format='heif', quality=-1, chroma=444, matrix_coefficients=0, **self.kwargs)\n",
    "\n",
    "    def decode_file(self, tmp_path):\n",
    "        im = np.array(Image.open(tmp_path))\n",
    "        return im\n",
    "\n",
    "benchmark(HEIFCodec(), 'HEIF')"
   ]
  },
  {
   "cell_type": "markdown",
   "metadata": {},
   "source": [
    "## JPEG XL"
   ]
  },
  {
   "cell_type": "code",
   "execution_count": 8,
   "metadata": {},
   "outputs": [
    {
     "name": "stderr",
     "output_type": "stream",
     "text": [
      "JPEG-XL: 100%|##################################################| 24/24 [00:21<00:00,  1.10it/s]\n"
     ]
    },
    {
     "name": "stdout",
     "output_type": "stream",
     "text": [
      "| enc (s) | dec (s) |  bpp   | ratio  |\n",
      "| 0.7813  | 0.1123  | 8.706  | 0.3628 |\n",
      "\n"
     ]
    },
    {
     "name": "stderr",
     "output_type": "stream",
     "text": [
      "JPEG-XL, effort=3: 100%|########################################| 24/24 [00:03<00:00,  6.93it/s]\n"
     ]
    },
    {
     "name": "stdout",
     "output_type": "stream",
     "text": [
      "| enc (s) | dec (s) |  bpp   | ratio  |\n",
      "| 0.0771  | 0.05554 |  9.44  | 0.3933 |\n",
      "\n"
     ]
    },
    {
     "name": "stderr",
     "output_type": "stream",
     "text": [
      "JPEG-XL, effort=6: 100%|########################################| 24/24 [00:16<00:00,  1.49it/s]\n"
     ]
    },
    {
     "name": "stdout",
     "output_type": "stream",
     "text": [
      "| enc (s) | dec (s) |  bpp   | ratio  |\n",
      "| 0.5534  | 0.1075  | 8.828  | 0.3678 |\n",
      "\n"
     ]
    },
    {
     "name": "stderr",
     "output_type": "stream",
     "text": [
      "JPEG-XL, effort=9: 100%|########################################| 24/24 [01:26<00:00,  3.61s/it]"
     ]
    },
    {
     "name": "stdout",
     "output_type": "stream",
     "text": [
      "| enc (s) | dec (s) |  bpp   | ratio  |\n",
      "|  3.494  | 0.1042  | 8.665  | 0.3611 |\n",
      "\n"
     ]
    },
    {
     "name": "stderr",
     "output_type": "stream",
     "text": [
      "\n"
     ]
    }
   ],
   "source": [
    "from jxlpy import JXLImagePlugin\n",
    "\n",
    "class JPEGXLCodec():\n",
    "    def __init__(self, **kwargs):\n",
    "        self.kwargs = kwargs\n",
    "\n",
    "    def encode_file(self, impath, tmp_path):\n",
    "        im = np.array(Image.open(impath))\n",
    "        Image.fromarray(im).save(tmp_path, format='jxl', lossless=True, **self.kwargs)\n",
    "\n",
    "    def decode_file(self, tmp_path):\n",
    "        im = np.array(Image.open(tmp_path))\n",
    "        return im\n",
    "\n",
    "benchmark(JPEGXLCodec(), 'JPEG-XL')\n",
    "benchmark(JPEGXLCodec(effort=3), 'JPEG-XL, effort=3')\n",
    "benchmark(JPEGXLCodec(effort=6), 'JPEG-XL, effort=6')\n",
    "benchmark(JPEGXLCodec(effort=9), 'JPEG-XL, effort=9')"
   ]
  }
 ],
 "metadata": {
  "kernelspec": {
   "display_name": "py311pt22",
   "language": "python",
   "name": "python3"
  },
  "language_info": {
   "codemirror_mode": {
    "name": "ipython",
    "version": 3
   },
   "file_extension": ".py",
   "mimetype": "text/x-python",
   "name": "python",
   "nbconvert_exporter": "python",
   "pygments_lexer": "ipython3",
   "version": "3.11.8"
  }
 },
 "nbformat": 4,
 "nbformat_minor": 2
}
