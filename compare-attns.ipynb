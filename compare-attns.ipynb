{
 "cells": [
  {
   "cell_type": "code",
   "execution_count": 1,
   "metadata": {},
   "outputs": [
    {
     "name": "stdout",
     "output_type": "stream",
     "text": [
      "True\n",
      "True\n",
      "True\n"
     ]
    }
   ],
   "source": [
    "from time import time\n",
    "from tqdm import tqdm\n",
    "import platform\n",
    "import torch\n",
    "import torch.nn.functional as tnf\n",
    "from torch.nn.attention import SDPBackend, sdpa_kernel\n",
    "\n",
    "device = torch.device('cuda:0')\n",
    "\n",
    "print(torch.backends.cuda.flash_sdp_enabled())\n",
    "print(torch.backends.cuda.mem_efficient_sdp_enabled())\n",
    "print(torch.backends.cuda.math_sdp_enabled())"
   ]
  },
  {
   "cell_type": "code",
   "execution_count": 2,
   "metadata": {},
   "outputs": [
    {
     "name": "stdout",
     "output_type": "stream",
     "text": [
      "Linux-6.5.0-35-generic-x86_64-with-glibc2.35\n",
      "torch.__version__='2.3.0'\n",
      "(name='NVIDIA GeForce RTX 3090', major=8, minor=6, total_memory=24259MB, multi_processor_count=82)\n"
     ]
    }
   ],
   "source": [
    "print(platform.platform())\n",
    "print(f'{torch.__version__=}')\n",
    "print(f'{torch.cuda.get_device_properties(device)}'.removeprefix('_CudaDeviceProperties'))\n"
   ]
  },
  {
   "cell_type": "code",
   "execution_count": 3,
   "metadata": {},
   "outputs": [],
   "source": [
    "def speedtest():\n",
    "    torch.cuda.reset_peak_memory_stats()\n",
    "    start_time = time()\n",
    "    N = 100\n",
    "    for _ in tqdm(range(N), ascii=True):\n",
    "        x = torch.randn(1024, 64, 16, 64, device=device, dtype=torch.float16)\n",
    "        y = tnf.scaled_dot_product_attention(x, x, x)\n",
    "        torch.cuda.synchronize()\n",
    "    elapsed_time = time() - start_time\n",
    "    time_per_iter = elapsed_time / N\n",
    "    print(f'{time_per_iter=:.4f} s/iter')\n",
    "    mem = torch.cuda.max_memory_allocated(device) / 1e9\n",
    "    print(f'{mem=:.2f} GB')\n",
    "    print(f'{y.shape=}')"
   ]
  },
  {
   "cell_type": "code",
   "execution_count": 4,
   "metadata": {},
   "outputs": [
    {
     "name": "stderr",
     "output_type": "stream",
     "text": [
      "100%|##########| 100/100 [00:01<00:00, 91.60it/s]"
     ]
    },
    {
     "name": "stdout",
     "output_type": "stream",
     "text": [
      "time_per_iter=0.0109 s/iter\n",
      "mem=0.41 GB\n",
      "y.shape=torch.Size([1024, 64, 16, 64])\n"
     ]
    },
    {
     "name": "stderr",
     "output_type": "stream",
     "text": [
      "\n"
     ]
    }
   ],
   "source": [
    "speedtest()"
   ]
  },
  {
   "cell_type": "code",
   "execution_count": 5,
   "metadata": {},
   "outputs": [
    {
     "name": "stderr",
     "output_type": "stream",
     "text": [
      "100%|##########| 100/100 [00:01<00:00, 98.42it/s]"
     ]
    },
    {
     "name": "stdout",
     "output_type": "stream",
     "text": [
      "time_per_iter=0.0102 s/iter\n",
      "mem=0.41 GB\n",
      "y.shape=torch.Size([1024, 64, 16, 64])\n"
     ]
    },
    {
     "name": "stderr",
     "output_type": "stream",
     "text": [
      "\n"
     ]
    }
   ],
   "source": [
    "with sdpa_kernel(SDPBackend.FLASH_ATTENTION):\n",
    "    speedtest()"
   ]
  },
  {
   "cell_type": "code",
   "execution_count": 6,
   "metadata": {},
   "outputs": [
    {
     "name": "stderr",
     "output_type": "stream",
     "text": [
      "100%|##########| 100/100 [00:00<00:00, 280.64it/s]"
     ]
    },
    {
     "name": "stdout",
     "output_type": "stream",
     "text": [
      "time_per_iter=0.0036 s/iter\n",
      "mem=0.40 GB\n",
      "y.shape=torch.Size([1024, 64, 16, 64])\n"
     ]
    },
    {
     "name": "stderr",
     "output_type": "stream",
     "text": [
      "\n"
     ]
    }
   ],
   "source": [
    "with sdpa_kernel(SDPBackend.EFFICIENT_ATTENTION):\n",
    "    speedtest()"
   ]
  },
  {
   "cell_type": "code",
   "execution_count": 7,
   "metadata": {},
   "outputs": [
    {
     "name": "stderr",
     "output_type": "stream",
     "text": [
      "100%|##########| 100/100 [00:00<00:00, 227.48it/s]"
     ]
    },
    {
     "name": "stdout",
     "output_type": "stream",
     "text": [
      "time_per_iter=0.0044 s/iter\n",
      "mem=0.58 GB\n",
      "y.shape=torch.Size([1024, 64, 16, 64])\n"
     ]
    },
    {
     "name": "stderr",
     "output_type": "stream",
     "text": [
      "\n"
     ]
    }
   ],
   "source": [
    "with sdpa_kernel(SDPBackend.MATH):\n",
    "    speedtest()"
   ]
  },
  {
   "cell_type": "code",
   "execution_count": 20,
   "metadata": {},
   "outputs": [
    {
     "name": "stdout",
     "output_type": "stream",
     "text": [
      "False False\n",
      "False\n",
      "tensor(1.4369e-07, device='cuda:0') tensor(0.0001, device='cuda:0') tensor(0.0001, device='cuda:0')\n"
     ]
    }
   ],
   "source": [
    "# sanity check\n",
    "x = torch.randn(1024, 64, 16, 64, device=device, dtype=torch.float16)\n",
    "with sdpa_kernel(SDPBackend.FLASH_ATTENTION):\n",
    "    y1 = tnf.scaled_dot_product_attention(x, x, x)\n",
    "with sdpa_kernel(SDPBackend.EFFICIENT_ATTENTION):\n",
    "    y2 = tnf.scaled_dot_product_attention(x, x, x)\n",
    "with sdpa_kernel(SDPBackend.MATH):\n",
    "    y3 = tnf.scaled_dot_product_attention(x, x, x)\n",
    "y1, y2, y3 = y1.float(), y2.float(), y3.float()\n",
    "print(torch.allclose(y1.float(), y2.float()), torch.allclose(y1.float(), y3.float()))\n",
    "print(torch.allclose(y2, y3))\n",
    "print(torch.abs(y1 - y2).max(), torch.abs(y1 - y3).max(), torch.abs(y2 - y3).max())"
   ]
  },
  {
   "cell_type": "code",
   "execution_count": 16,
   "metadata": {},
   "outputs": [
    {
     "data": {
      "text/plain": [
       "(tensor(5.4766, device='cuda:0'),\n",
       " tensor(5.4766, device='cuda:0'),\n",
       " tensor(5.4766, device='cuda:0'))"
      ]
     },
     "execution_count": 16,
     "metadata": {},
     "output_type": "execute_result"
    }
   ],
   "source": [
    "y1.max(), y2.max(), y3.max()"
   ]
  }
 ],
 "metadata": {
  "kernelspec": {
   "display_name": "cp311pt23",
   "language": "python",
   "name": "python3"
  },
  "language_info": {
   "codemirror_mode": {
    "name": "ipython",
    "version": 3
   },
   "file_extension": ".py",
   "mimetype": "text/x-python",
   "name": "python",
   "nbconvert_exporter": "python",
   "pygments_lexer": "ipython3",
   "version": "3.11.9"
  }
 },
 "nbformat": 4,
 "nbformat_minor": 2
}
