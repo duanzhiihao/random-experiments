{
 "cells": [
  {
   "cell_type": "code",
   "execution_count": 1,
   "metadata": {},
   "outputs": [
    {
     "name": "stdout",
     "output_type": "stream",
     "text": [
      "True\n",
      "True\n",
      "True\n"
     ]
    }
   ],
   "source": [
    "from time import time\n",
    "from tqdm import tqdm\n",
    "import platform\n",
    "import torch\n",
    "import torch.nn.functional as tnf\n",
    "from torch.nn.attention import SDPBackend, sdpa_kernel\n",
    "\n",
    "device = torch.device('cuda:0')\n",
    "\n",
    "print(torch.backends.cuda.flash_sdp_enabled())\n",
    "print(torch.backends.cuda.mem_efficient_sdp_enabled())\n",
    "print(torch.backends.cuda.math_sdp_enabled())"
   ]
  },
  {
   "cell_type": "code",
   "execution_count": 2,
   "metadata": {},
   "outputs": [
    {
     "name": "stdout",
     "output_type": "stream",
     "text": [
      "Linux-6.5.0-35-generic-x86_64-with-glibc2.35\n",
      "torch.__version__='2.3.0'\n",
      "(name='NVIDIA GeForce RTX 3090', major=8, minor=6, total_memory=24259MB, multi_processor_count=82)\n"
     ]
    }
   ],
   "source": [
    "print(platform.platform())\n",
    "print(f'{torch.__version__=}')\n",
    "print(f'{torch.cuda.get_device_properties(device)}'.removeprefix('_CudaDeviceProperties'))\n"
   ]
  },
  {
   "cell_type": "code",
   "execution_count": 3,
   "metadata": {},
   "outputs": [],
   "source": [
    "def speedtest():\n",
    "    torch.cuda.reset_peak_memory_stats()\n",
    "    start_time = time()\n",
    "    N = 100\n",
    "    for _ in tqdm(range(N), ascii=True):\n",
    "        x = torch.randn(1024, 1024, 16, 64, device=device, dtype=torch.float16)\n",
    "        y = tnf.scaled_dot_product_attention(x, x, x)\n",
    "        torch.cuda.synchronize()\n",
    "    elapsed_time = time() - start_time\n",
    "    time_per_iter = elapsed_time / N\n",
    "    print(f'{time_per_iter=:.4f} s/iter')\n",
    "    mem = torch.cuda.max_memory_allocated(device) / 1e9\n",
    "    print(f'{mem=:.2f} GB')"
   ]
  },
  {
   "cell_type": "code",
   "execution_count": 4,
   "metadata": {},
   "outputs": [
    {
     "name": "stderr",
     "output_type": "stream",
     "text": [
      "100%|##########| 100/100 [00:07<00:00, 14.17it/s]"
     ]
    },
    {
     "name": "stdout",
     "output_type": "stream",
     "text": [
      "time_per_iter=0.0706 s/iter\n",
      "mem=6.51 GB\n"
     ]
    },
    {
     "name": "stderr",
     "output_type": "stream",
     "text": [
      "\n"
     ]
    }
   ],
   "source": [
    "speedtest()"
   ]
  },
  {
   "cell_type": "code",
   "execution_count": 5,
   "metadata": {},
   "outputs": [
    {
     "name": "stderr",
     "output_type": "stream",
     "text": [
      "100%|##########| 100/100 [00:07<00:00, 14.21it/s]"
     ]
    },
    {
     "name": "stdout",
     "output_type": "stream",
     "text": [
      "time_per_iter=0.0704 s/iter\n",
      "mem=6.51 GB\n"
     ]
    },
    {
     "name": "stderr",
     "output_type": "stream",
     "text": [
      "\n"
     ]
    }
   ],
   "source": [
    "with sdpa_kernel(SDPBackend.FLASH_ATTENTION):\n",
    "    speedtest()"
   ]
  },
  {
   "cell_type": "code",
   "execution_count": 6,
   "metadata": {},
   "outputs": [
    {
     "name": "stderr",
     "output_type": "stream",
     "text": [
      "100%|##########| 100/100 [00:02<00:00, 39.59it/s]"
     ]
    },
    {
     "name": "stdout",
     "output_type": "stream",
     "text": [
      "time_per_iter=0.0253 s/iter\n",
      "mem=6.44 GB\n"
     ]
    },
    {
     "name": "stderr",
     "output_type": "stream",
     "text": [
      "\n"
     ]
    }
   ],
   "source": [
    "with sdpa_kernel(SDPBackend.EFFICIENT_ATTENTION):\n",
    "    speedtest()"
   ]
  },
  {
   "cell_type": "code",
   "execution_count": 7,
   "metadata": {},
   "outputs": [
    {
     "name": "stderr",
     "output_type": "stream",
     "text": [
      "100%|##########| 100/100 [00:02<00:00, 35.09it/s]"
     ]
    },
    {
     "name": "stdout",
     "output_type": "stream",
     "text": [
      "time_per_iter=0.0285 s/iter\n",
      "mem=9.14 GB\n"
     ]
    },
    {
     "name": "stderr",
     "output_type": "stream",
     "text": [
      "\n"
     ]
    }
   ],
   "source": [
    "with sdpa_kernel(SDPBackend.MATH):\n",
    "    speedtest()"
   ]
  }
 ],
 "metadata": {
  "kernelspec": {
   "display_name": "cp311pt23",
   "language": "python",
   "name": "python3"
  },
  "language_info": {
   "codemirror_mode": {
    "name": "ipython",
    "version": 3
   },
   "file_extension": ".py",
   "mimetype": "text/x-python",
   "name": "python",
   "nbconvert_exporter": "python",
   "pygments_lexer": "ipython3",
   "version": "3.11.9"
  }
 },
 "nbformat": 4,
 "nbformat_minor": 2
}
