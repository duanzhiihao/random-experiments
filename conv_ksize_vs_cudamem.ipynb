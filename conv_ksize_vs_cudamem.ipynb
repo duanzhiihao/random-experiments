{
 "cells": [
  {
   "cell_type": "code",
   "execution_count": 1,
   "metadata": {},
   "outputs": [],
   "source": [
    "import torch\n",
    "import torch.nn as nn"
   ]
  },
  {
   "cell_type": "code",
   "execution_count": 2,
   "metadata": {},
   "outputs": [],
   "source": [
    "def cuda_summary():\n",
    "    _alloc = torch.cuda.memory_allocated() / 1E9\n",
    "    _max_alloc = torch.cuda.max_memory_allocated() / 1E9\n",
    "    mem = f'alloc: {_alloc:.3g}G, max_alloc: {_max_alloc:.3g}G' # (GB)\n",
    "    print(mem)\n",
    "    torch.cuda.reset_peak_memory_stats()\n",
    "\n",
    "def test_cuda_memory(ks, stride, half=False):\n",
    "    in_ch = 96\n",
    "    out_ch = 192\n",
    "    x = torch.randn(16, in_ch, 320, 320).cuda()\n",
    "    pad = (ks - 1) // 2\n",
    "    model = nn.Conv2d(in_ch, out_ch, kernel_size=ks, stride=stride, padding=pad).cuda()\n",
    "    \n",
    "    if half:\n",
    "        x = x.half()\n",
    "        model = model.half()\n",
    "\n",
    "    print('Mem. usage of x and model:')\n",
    "    cuda_summary()\n",
    "    with torch.no_grad():\n",
    "        model(x)\n",
    "    print('Mem. usage of forward pass:')\n",
    "    cuda_summary()"
   ]
  },
  {
   "cell_type": "code",
   "execution_count": 3,
   "metadata": {},
   "outputs": [
    {
     "name": "stdout",
     "output_type": "stream",
     "text": [
      "Mem. usage of x and model:\n",
      "alloc: 0.63G, max_alloc: 0.63G\n",
      "Mem. usage of forward pass:\n",
      "alloc: 0.63G, max_alloc: 6.14G\n"
     ]
    }
   ],
   "source": [
    "test_cuda_memory(ks=3, stride=1, half=False)"
   ]
  },
  {
   "cell_type": "code",
   "execution_count": 4,
   "metadata": {},
   "outputs": [
    {
     "name": "stdout",
     "output_type": "stream",
     "text": [
      "Mem. usage of x and model:\n",
      "alloc: 0.315G, max_alloc: 0.944G\n",
      "Mem. usage of forward pass:\n",
      "alloc: 0.315G, max_alloc: 1.89G\n"
     ]
    }
   ],
   "source": [
    "test_cuda_memory(ks=3, stride=1, half=True)"
   ]
  },
  {
   "cell_type": "code",
   "execution_count": 5,
   "metadata": {},
   "outputs": [
    {
     "name": "stdout",
     "output_type": "stream",
     "text": [
      "Mem. usage of x and model:\n",
      "alloc: 0.631G, max_alloc: 0.631G\n",
      "Mem. usage of forward pass:\n",
      "alloc: 0.631G, max_alloc: 2.01G\n"
     ]
    }
   ],
   "source": [
    "test_cuda_memory(ks=5, stride=1, half=False)"
   ]
  },
  {
   "cell_type": "code",
   "execution_count": 6,
   "metadata": {},
   "outputs": [
    {
     "name": "stdout",
     "output_type": "stream",
     "text": [
      "Mem. usage of x and model:\n",
      "alloc: 0.315G, max_alloc: 0.946G\n",
      "Mem. usage of forward pass:\n",
      "alloc: 0.315G, max_alloc: 1.89G\n"
     ]
    }
   ],
   "source": [
    "test_cuda_memory(ks=5, stride=1, half=True)"
   ]
  }
 ],
 "metadata": {
  "kernelspec": {
   "display_name": "Python 3",
   "language": "python",
   "name": "python3"
  },
  "language_info": {
   "codemirror_mode": {
    "name": "ipython",
    "version": 3
   },
   "file_extension": ".py",
   "mimetype": "text/x-python",
   "name": "python",
   "nbconvert_exporter": "python",
   "pygments_lexer": "ipython3",
   "version": "3.8.5"
  }
 },
 "nbformat": 4,
 "nbformat_minor": 4
}
