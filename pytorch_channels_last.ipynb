{
 "cells": [
  {
   "cell_type": "code",
   "execution_count": 1,
   "metadata": {},
   "outputs": [],
   "source": [
    "from tqdm import tqdm\n",
    "import torch\n",
    "import torchvision as tv\n",
    "\n",
    "from mycv.paths import WEIGHTS_DIR\n",
    "from mycv.datasets.imagenet import imagenet_val"
   ]
  },
  {
   "cell_type": "code",
   "execution_count": 2,
   "metadata": {},
   "outputs": [
    {
     "data": {
      "text/plain": [
       "<All keys matched successfully>"
      ]
     },
     "execution_count": 2,
     "metadata": {},
     "output_type": "execute_result"
    }
   ],
   "source": [
    "model = tv.models.resnet101(pretrained=False)\n",
    "model = model.cuda()\n",
    "weights = WEIGHTS_DIR / 'resnet101-5d3b4d8f.pth'\n",
    "model.load_state_dict(torch.load(weights))"
   ]
  },
  {
   "cell_type": "code",
   "execution_count": 3,
   "metadata": {},
   "outputs": [],
   "source": [
    "def benchmark(model, batch_size, img_size, channels_last=False, iterations=128, half=False):\n",
    "    if channels_last:\n",
    "        model.to(memory_format=torch.channels_last)\n",
    "    else:\n",
    "        model.to(memory_format=torch.contiguous_format)\n",
    "    if half:\n",
    "        model.half()\n",
    "    \n",
    "    for _ in tqdm(range(iterations)):\n",
    "        x = torch.rand(batch_size, 3, img_size, img_size)\n",
    "        if channels_last:\n",
    "            x = x.to(memory_format=torch.channels_last)\n",
    "        if half:\n",
    "            x = x.half()\n",
    "        x = x.cuda()\n",
    "        x = model(x)"
   ]
  },
  {
   "cell_type": "code",
   "execution_count": 4,
   "metadata": {},
   "outputs": [
    {
     "name": "stderr",
     "output_type": "stream",
     "text": [
      "100%|██████████| 3/3 [00:02<00:00,  1.45it/s]\n",
      "100%|██████████| 128/128 [00:21<00:00,  5.94it/s]\n",
      " 33%|███▎      | 1/3 [00:00<00:00,  6.66it/s]"
     ]
    },
    {
     "name": "stdout",
     "output_type": "stream",
     "text": [
      "\n"
     ]
    },
    {
     "name": "stderr",
     "output_type": "stream",
     "text": [
      "100%|██████████| 3/3 [00:00<00:00,  5.46it/s]\n",
      "100%|██████████| 128/128 [00:25<00:00,  5.10it/s]\n"
     ]
    }
   ],
   "source": [
    "# standard inference\n",
    "model.eval()\n",
    "with torch.no_grad():\n",
    "    benchmark(model, 64, 256, channels_last=False, iterations=3)\n",
    "    benchmark(model, 64, 256, channels_last=False, iterations=128)\n",
    "    print('')\n",
    "    benchmark(model, 64, 256, channels_last=True, iterations=3)\n",
    "    benchmark(model, 64, 256, channels_last=True, iterations=128)"
   ]
  },
  {
   "cell_type": "code",
   "execution_count": 5,
   "metadata": {},
   "outputs": [
    {
     "name": "stderr",
     "output_type": "stream",
     "text": [
      "100%|██████████| 3/3 [00:00<00:00,  7.46it/s]\n",
      "100%|██████████| 128/128 [00:13<00:00,  9.60it/s]\n",
      " 33%|███▎      | 1/3 [00:00<00:00,  6.91it/s]"
     ]
    },
    {
     "name": "stdout",
     "output_type": "stream",
     "text": [
      "\n"
     ]
    },
    {
     "name": "stderr",
     "output_type": "stream",
     "text": [
      "100%|██████████| 3/3 [00:00<00:00,  7.50it/s]\n",
      "100%|██████████| 128/128 [00:15<00:00,  8.12it/s]\n"
     ]
    }
   ],
   "source": [
    "# half precision inference\n",
    "model.eval()\n",
    "with torch.no_grad():\n",
    "    benchmark(model, 64, 256, channels_last=False, iterations=3, half=True)\n",
    "    benchmark(model, 64, 256, channels_last=False, iterations=128, half=True)\n",
    "    print('')\n",
    "    benchmark(model, 64, 256, channels_last=True, iterations=3, half=True)\n",
    "    benchmark(model, 64, 256, channels_last=True, iterations=128, half=True)"
   ]
  },
  {
   "cell_type": "code",
   "execution_count": 6,
   "metadata": {},
   "outputs": [],
   "source": [
    "# standard training"
   ]
  },
  {
   "cell_type": "code",
   "execution_count": 7,
   "metadata": {},
   "outputs": [],
   "source": [
    "# amp training"
   ]
  },
  {
   "cell_type": "code",
   "execution_count": 8,
   "metadata": {},
   "outputs": [
    {
     "data": {
      "text/plain": [
       "8004"
      ]
     },
     "execution_count": 8,
     "metadata": {},
     "output_type": "execute_result"
    }
   ],
   "source": [
    "torch.backends.cudnn.version()"
   ]
  }
 ],
 "metadata": {
  "kernelspec": {
   "display_name": "Python 3",
   "language": "python",
   "name": "python3"
  },
  "language_info": {
   "codemirror_mode": {
    "name": "ipython",
    "version": 3
   },
   "file_extension": ".py",
   "mimetype": "text/x-python",
   "name": "python",
   "nbconvert_exporter": "python",
   "pygments_lexer": "ipython3",
   "version": "3.8.5"
  }
 },
 "nbformat": 4,
 "nbformat_minor": 4
}
