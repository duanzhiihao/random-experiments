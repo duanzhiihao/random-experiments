{
 "cells": [
  {
   "cell_type": "code",
   "execution_count": 1,
   "metadata": {},
   "outputs": [],
   "source": [
    "from time import time\n",
    "from tqdm import tqdm\n",
    "import torch\n",
    "import torch.nn as nn\n",
    "\n",
    "from models.modules import SeparableConv2d"
   ]
  },
  {
   "cell_type": "code",
   "execution_count": 2,
   "metadata": {},
   "outputs": [],
   "source": [
    "def test_block(block, ch=128):\n",
    "    model = nn.Sequential(*[block(ch, ch, kernel_size=3, stride=1, padding=1) for _ in range(50)])\n",
    "    model = model.cuda()\n",
    "    model.train()\n",
    "    \n",
    "    # warmup\n",
    "    noise = torch.rand(4, ch, 100, 100).cuda()\n",
    "    noise = model(noise)\n",
    "    noise.sum().backward()\n",
    "\n",
    "    torch.cuda.reset_max_memory_allocated()\n",
    "    tic = time()\n",
    "    for _ in tqdm(range(100)):\n",
    "        noise = torch.rand(4, ch, 80, 80).cuda()\n",
    "        noise = model(noise)\n",
    "        noise.sum().backward()\n",
    "    elapsed = time() - tic\n",
    "    memory = torch.cuda.max_memory_allocated() / 1024 / 1024 / 1024\n",
    "\n",
    "    print('number of parameters:', sum([p.numel() for p in model.parameters()]))\n",
    "    print(f'time = {elapsed:2f}s')\n",
    "    print(f'memory = {memory:2f}GB')"
   ]
  },
  {
   "cell_type": "code",
   "execution_count": 3,
   "metadata": {},
   "outputs": [
    {
     "name": "stderr",
     "output_type": "stream",
     "text": [
      "100%|██████████| 100/100 [00:05<00:00, 19.18it/s]\n",
      "  2%|▏         | 2/100 [00:00<00:05, 16.70it/s]"
     ]
    },
    {
     "name": "stdout",
     "output_type": "stream",
     "text": [
      "number of parameters: 462400\n",
      "time = 5.217695s\n",
      "memory = 0.179130GB\n"
     ]
    },
    {
     "name": "stderr",
     "output_type": "stream",
     "text": [
      "100%|██████████| 100/100 [00:04<00:00, 20.68it/s]"
     ]
    },
    {
     "name": "stdout",
     "output_type": "stream",
     "text": [
      "number of parameters: 67200\n",
      "time = 4.836754s\n",
      "memory = 0.314942GB\n"
     ]
    },
    {
     "name": "stderr",
     "output_type": "stream",
     "text": [
      "\n"
     ]
    }
   ],
   "source": [
    "test_block(nn.Conv2d, ch=32)\n",
    "test_block(SeparableConv2d, ch=32)"
   ]
  },
  {
   "cell_type": "code",
   "execution_count": 4,
   "metadata": {},
   "outputs": [
    {
     "name": "stderr",
     "output_type": "stream",
     "text": [
      "100%|██████████| 100/100 [00:29<00:00,  3.42it/s]\n"
     ]
    },
    {
     "name": "stdout",
     "output_type": "stream",
     "text": [
      "number of parameters: 7379200\n",
      "time = 29.224858s\n",
      "memory = 0.759631GB\n"
     ]
    },
    {
     "name": "stderr",
     "output_type": "stream",
     "text": [
      "100%|██████████| 100/100 [00:19<00:00,  5.09it/s]"
     ]
    },
    {
     "name": "stdout",
     "output_type": "stream",
     "text": [
      "number of parameters: 883200\n",
      "time = 19.647464s\n",
      "memory = 1.263967GB\n"
     ]
    },
    {
     "name": "stderr",
     "output_type": "stream",
     "text": [
      "\n"
     ]
    }
   ],
   "source": [
    "test_block(nn.Conv2d, ch=128)\n",
    "test_block(SeparableConv2d, ch=128)"
   ]
  }
 ],
 "metadata": {
  "kernelspec": {
   "display_name": "Python 3",
   "language": "python",
   "name": "python3"
  },
  "language_info": {
   "codemirror_mode": {
    "name": "ipython",
    "version": 3
   },
   "file_extension": ".py",
   "mimetype": "text/x-python",
   "name": "python",
   "nbconvert_exporter": "python",
   "pygments_lexer": "ipython3",
   "version": "3.7.7"
  }
 },
 "nbformat": 4,
 "nbformat_minor": 4
}
